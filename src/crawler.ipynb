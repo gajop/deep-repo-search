{
 "cells": [
  {
   "cell_type": "code",
   "execution_count": 1,
   "metadata": {
    "collapsed": false
   },
   "outputs": [
    {
     "ename": "ImportError",
     "evalue": "No module named 'github3'",
     "output_type": "error",
     "traceback": [
      "\u001b[1;31m---------------------------------------------------------------------------\u001b[0m",
      "\u001b[1;31mImportError\u001b[0m                               Traceback (most recent call last)",
      "\u001b[1;32m<ipython-input-1-db238e55f9fe>\u001b[0m in \u001b[0;36m<module>\u001b[1;34m()\u001b[0m\n\u001b[0;32m      1\u001b[0m \u001b[1;31m# Login to Github\u001b[0m\u001b[1;33m\u001b[0m\u001b[1;33m\u001b[0m\u001b[0m\n\u001b[0;32m      2\u001b[0m \u001b[1;33m\u001b[0m\u001b[0m\n\u001b[1;32m----> 3\u001b[1;33m \u001b[1;32mfrom\u001b[0m \u001b[0mgithub3\u001b[0m \u001b[1;32mimport\u001b[0m \u001b[0mlogin\u001b[0m\u001b[1;33m\u001b[0m\u001b[0m\n\u001b[0m\u001b[0;32m      4\u001b[0m \u001b[0mgh\u001b[0m \u001b[1;33m=\u001b[0m \u001b[0mlogin\u001b[0m\u001b[1;33m(\u001b[0m\u001b[1;34m'gajop'\u001b[0m\u001b[1;33m,\u001b[0m \u001b[0mpassword\u001b[0m\u001b[1;33m=\u001b[0m\u001b[1;34m'mokravoda7'\u001b[0m\u001b[1;33m)\u001b[0m\u001b[1;33m\u001b[0m\u001b[0m\n\u001b[0;32m      5\u001b[0m \u001b[1;33m\u001b[0m\u001b[0m\n",
      "\u001b[1;31mImportError\u001b[0m: No module named 'github3'"
     ]
    }
   ],
   "source": [
    "# Login to Github\n",
    "\n",
    "from github3 import login\n",
    "gh = login('gajop', password='mokravoda7')\n",
    "\n",
    "# Obtain a list of all repositories\n",
    "# Iterate through all repositories, retrieve the metadata and write it to files.\n",
    "\n",
    "import time\n",
    "import pickle\n",
    "import os\n",
    "import sys\n",
    "\n",
    "# Get the current iterator so we can interrupt the process at any time\n",
    "try:\n",
    "    iterFile = open('repo_iter.pkl', 'rb')\n",
    "    etag = pickle.load(iterFile)\n",
    "    reposIter = gh.all_repositories(etag=etag)\n",
    "except:\n",
    "    reposIter = gh.all_repositories()\n",
    "#etag = i.etag\n",
    "# Store this somewhere\n",
    "\n",
    "repos = []\n",
    "reposCrawled = 0\n",
    "REPOS_PER_FILE = 2000\n",
    "\n",
    "# Later when you start a new process or go to check for new users you can\n",
    "# then do\n",
    "\n",
    "def addRepo(repo):\n",
    "    global repos, reposCrawled, REPOS_PER_FILE\n",
    "    repos.append(repo.as_json())\n",
    "    reposCrawled += 1\n",
    "    # serialize repos\n",
    "    if len(repos) >= REPOS_PER_FILE:\n",
    "        index = 0\n",
    "        while True:\n",
    "            fileName = 'repos' + str(index) + '.pkl'\n",
    "            if not os.path.isfile(fileName):\n",
    "                break\n",
    "            index += 1\n",
    "        pickle.dump(repos, open(fileName, 'wb'))\n",
    "        repos = []\n",
    "        pickle.load(open(fileName, 'rb'))\n",
    "        \n",
    "        print(\"Crawled %d repositories.\" % reposCrawled)\n",
    "        time.sleep(120)\n",
    "        \n",
    "        sys.exit(0)\n",
    "\n",
    "for repo in reposIter:\n",
    "    addRepo(repo)\n",
    "\n",
    "    \n",
    "#while True:\n",
    "#    reposIter.refresh(True)\n",
    "#    for repo in reposIter:\n",
    "#        print(repo)\n",
    "#        print(reposIter.etag)\n",
    "#\n",
    "#    time.sleep(120)  # Sleep for 2 minutes"
   ]
  },
  {
   "cell_type": "code",
   "execution_count": 43,
   "metadata": {
    "collapsed": false
   },
   "outputs": [
    {
     "name": "stdout",
     "output_type": "stream",
     "text": [
      "Loading file: repos0.pkl...\n",
      "Total repositories loaded: 2000\n"
     ]
    }
   ],
   "source": [
    "import time\n",
    "import pickle\n",
    "import os\n",
    "from github3.repos.repo import Repository\n",
    "\n",
    "def loadRepos():\n",
    "    index = 0\n",
    "    repos = []\n",
    "    while True:\n",
    "        fileName = 'repos' + str(index) + '.pkl'\n",
    "        if not os.path.isfile(fileName):\n",
    "            break\n",
    "        print(\"Loading file: %s...\" % fileName)\n",
    "        for repoJson in pickle.load(open(fileName, 'rb')):\n",
    "            repos.append(Repository.from_json(json))\n",
    "        \n",
    "        index += 1\n",
    "    return repos\n",
    "        \n",
    "repos = loadRepos()\n",
    "print(\"Total repositories loaded: %d\" % len(repos))"
   ]
  },
  {
   "cell_type": "code",
   "execution_count": 46,
   "metadata": {
    "collapsed": false
   },
   "outputs": [
    {
     "name": "stdout",
     "output_type": "stream",
     "text": [
      "mojombo/grit\n",
      "{\"description\": \"**Grit is no longer maintained. Check out libgit2/rugged.** Grit gives you object oriented read/write access to Git repositories via Ruby.\", \"fork\": false, \"name\": \"grit\", \"stargazers_url\": \"https://api.github.com/repos/mojombo/grit/stargazers\", \"contributors_url\": \"https://api.github.com/repos/mojombo/grit/contributors\", \"merges_url\": \"https://api.github.com/repos/mojombo/grit/merges\", \"blobs_url\": \"https://api.github.com/repos/mojombo/grit/git/blobs{/sha}\", \"full_name\": \"mojombo/grit\", \"events_url\": \"https://api.github.com/repos/mojombo/grit/events\", \"issue_comment_url\": \"https://api.github.com/repos/mojombo/grit/issues/comments{/number}\", \"forks_url\": \"https://api.github.com/repos/mojombo/grit/forks\", \"branches_url\": \"https://api.github.com/repos/mojombo/grit/branches{/branch}\", \"keys_url\": \"https://api.github.com/repos/mojombo/grit/keys{/key_id}\", \"commits_url\": \"https://api.github.com/repos/mojombo/grit/commits{/sha}\", \"git_tags_url\": \"https://api.github.com/repos/mojombo/grit/git/tags{/sha}\", \"downloads_url\": \"https://api.github.com/repos/mojombo/grit/downloads\", \"archive_url\": \"https://api.github.com/repos/mojombo/grit/{archive_format}{/ref}\", \"comments_url\": \"https://api.github.com/repos/mojombo/grit/comments{/number}\", \"collaborators_url\": \"https://api.github.com/repos/mojombo/grit/collaborators{/collaborator}\", \"git_commits_url\": \"https://api.github.com/repos/mojombo/grit/git/commits{/sha}\", \"teams_url\": \"https://api.github.com/repos/mojombo/grit/teams\", \"private\": false, \"deployments_url\": \"https://api.github.com/repos/mojombo/grit/deployments\", \"statuses_url\": \"https://api.github.com/repos/mojombo/grit/statuses/{sha}\", \"contents_url\": \"https://api.github.com/repos/mojombo/grit/contents/{+path}\", \"html_url\": \"https://github.com/mojombo/grit\", \"subscribers_url\": \"https://api.github.com/repos/mojombo/grit/subscribers\", \"languages_url\": \"https://api.github.com/repos/mojombo/grit/languages\", \"subscription_url\": \"https://api.github.com/repos/mojombo/grit/subscription\", \"tags_url\": \"https://api.github.com/repos/mojombo/grit/tags\", \"trees_url\": \"https://api.github.com/repos/mojombo/grit/git/trees{/sha}\", \"assignees_url\": \"https://api.github.com/repos/mojombo/grit/assignees{/user}\", \"labels_url\": \"https://api.github.com/repos/mojombo/grit/labels{/name}\", \"url\": \"https://api.github.com/repos/mojombo/grit\", \"hooks_url\": \"https://api.github.com/repos/mojombo/grit/hooks\", \"git_refs_url\": \"https://api.github.com/repos/mojombo/grit/git/refs{/sha}\", \"releases_url\": \"https://api.github.com/repos/mojombo/grit/releases{/id}\", \"milestones_url\": \"https://api.github.com/repos/mojombo/grit/milestones{/number}\", \"issue_events_url\": \"https://api.github.com/repos/mojombo/grit/issues/events{/number}\", \"id\": 1, \"owner\": {\"url\": \"https://api.github.com/users/mojombo\", \"id\": 1, \"avatar_url\": \"https://avatars.githubusercontent.com/u/1?v=3\", \"subscriptions_url\": \"https://api.github.com/users/mojombo/subscriptions\", \"gists_url\": \"https://api.github.com/users/mojombo/gists{/gist_id}\", \"repos_url\": \"https://api.github.com/users/mojombo/repos\", \"gravatar_id\": \"\", \"html_url\": \"https://github.com/mojombo\", \"followers_url\": \"https://api.github.com/users/mojombo/followers\", \"type\": \"User\", \"following_url\": \"https://api.github.com/users/mojombo/following{/other_user}\", \"organizations_url\": \"https://api.github.com/users/mojombo/orgs\", \"received_events_url\": \"https://api.github.com/users/mojombo/received_events\", \"login\": \"mojombo\", \"site_admin\": false, \"starred_url\": \"https://api.github.com/users/mojombo/starred{/owner}{/repo}\", \"events_url\": \"https://api.github.com/users/mojombo/events{/privacy}\"}, \"notifications_url\": \"https://api.github.com/repos/mojombo/grit/notifications{?since,all,participating}\", \"issues_url\": \"https://api.github.com/repos/mojombo/grit/issues{/number}\", \"pulls_url\": \"https://api.github.com/repos/mojombo/grit/pulls{/number}\", \"compare_url\": \"https://api.github.com/repos/mojombo/grit/compare/{base}...{head}\"}\n"
     ]
    }
   ],
   "source": [
    "x = repos[0]\n",
    "print(x)\n",
    "print(x.as_json())"
   ]
  }
 ],
 "metadata": {
  "kernelspec": {
   "display_name": "SOMET2016-Python 3",
   "language": "python",
   "name": "somet-2016-python3"
  },
  "language_info": {
   "codemirror_mode": {
    "name": "ipython",
    "version": 3
   },
   "file_extension": ".py",
   "mimetype": "text/x-python",
   "name": "python",
   "nbconvert_exporter": "python",
   "pygments_lexer": "ipython3",
   "version": "3.5.1"
  }
 },
 "nbformat": 4,
 "nbformat_minor": 0
}
